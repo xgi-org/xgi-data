{
 "cells": [
  {
   "cell_type": "code",
   "execution_count": null,
   "metadata": {},
   "outputs": [],
   "source": [
    "import numpy as np\n",
    "import matplotlib.pyplot as plt\n",
    "import seaborn as sns\n",
    "import xgi\n",
    "import pandas as pd"
   ]
  },
  {
   "cell_type": "code",
   "execution_count": null,
   "metadata": {},
   "outputs": [],
   "source": [
    "dataset_name = \"threads-math-sx\"\n",
    "\n",
    "H = xgi.load_xgi_data(dataset_name)"
   ]
  },
  {
   "cell_type": "code",
   "execution_count": null,
   "metadata": {},
   "outputs": [],
   "source": [
    "print(H)"
   ]
  },
  {
   "cell_type": "code",
   "execution_count": null,
   "metadata": {},
   "outputs": [],
   "source": [
    "simpleH = H.copy()\n",
    "simpleH.merge_duplicate_edges()\n",
    "print(simpleH)"
   ]
  },
  {
   "cell_type": "code",
   "execution_count": null,
   "metadata": {},
   "outputs": [],
   "source": [
    "s = H.edges.size\n",
    "print(f\"The min edge size is {s.min()}\")\n",
    "print(f\"The max edge size is {s.max()}\")\n",
    "print(f\"The mean edge size is {s.mean()}\")"
   ]
  },
  {
   "cell_type": "code",
   "execution_count": null,
   "metadata": {},
   "outputs": [],
   "source": [
    "d = H.nodes.degree\n",
    "print(f\"The min degree is {d.min()}\")\n",
    "print(f\"The max degree is {d.max()}\")\n",
    "print(f\"The mean degree is {d.mean()}\")"
   ]
  },
  {
   "cell_type": "code",
   "execution_count": null,
   "metadata": {},
   "outputs": [],
   "source": [
    "cc = [len(c) for c in xgi.connected_components(H)]\n",
    "vals, counts = np.unique(cc, return_counts=True)\n",
    "print(len(cc))\n",
    "pd.DataFrame({\"Component Size\": vals, \"Number\": counts})"
   ]
  },
  {
   "cell_type": "code",
   "execution_count": null,
   "metadata": {},
   "outputs": [],
   "source": [
    "def plot_distributions(\n",
    "    H,\n",
    "    node_bins=None,\n",
    "    edge_bins=None,\n",
    "    log_x1=True,\n",
    "    log_y1=True,\n",
    "    log_x2=True,\n",
    "    log_y2=True,\n",
    "):\n",
    "\n",
    "    if node_bins is None:\n",
    "        node_bins = int(H.num_nodes / 20)\n",
    "        node_bins = min(node_bins, 100)\n",
    "\n",
    "    if edge_bins is None:\n",
    "        s = H.edges.size\n",
    "        edge_bins = int(s.max() - s.min() + 1)\n",
    "        edge_bins = min(edge_bins, 100)\n",
    "\n",
    "    plt.figure(figsize=(8, 4))\n",
    "    plt.subplot(121)\n",
    "\n",
    "    h1 = H.nodes.degree.ashist(bins=node_bins, density=True, log_binning=log_x1)\n",
    "    h2 = H.edges.size.ashist(bins=edge_bins, density=True, log_binning=log_x2)\n",
    "    y1 = h1[h1.value > 0].value\n",
    "    y2 = h2[h2.value > 0].value\n",
    "    ymin = 0.95 * min(y1.min(), y2.min())\n",
    "    ymax = 1.1 * max(y1.max(), y2.max())\n",
    "\n",
    "    if log_x1 and log_y1:\n",
    "        plt.loglog(h1[\"bin_center\"], h1[\"value\"], \"ko\", markersize=2)\n",
    "    elif log_x1 and not log_y1:\n",
    "        plt.semilogx(h1[\"bin_center\"], h1[\"value\"], \"ko\", markersize=2)\n",
    "    elif not log_x1 and log_y1:\n",
    "        plt.semilogy(h1[\"bin_center\"], h1[\"value\"], \"ko\", markersize=2)\n",
    "    elif not log_x1 and not log_y1:\n",
    "        plt.plot(h1[\"bin_center\"], h1[\"value\"], \"ko\", markersize=2)\n",
    "\n",
    "    plt.title(\"Degree distribution\")\n",
    "    plt.xlabel(r\"$k$\", fontsize=16)\n",
    "    plt.ylabel(r\"$P(k)$\", fontsize=16)\n",
    "    plt.ylim([ymin, ymax])\n",
    "    sns.despine()\n",
    "\n",
    "    plt.subplot(122)\n",
    "\n",
    "    if log_x2 and log_y2:\n",
    "        plt.loglog(h2[\"bin_center\"], h2[\"value\"], \"ko\", markersize=2)\n",
    "    elif log_x2 and not log_y2:\n",
    "        plt.semilogx(h2[\"bin_center\"], h2[\"value\"], \"ko\", markersize=2)\n",
    "    elif not log_x2 and log_y2:\n",
    "        plt.semilogy(h2[\"bin_center\"], h2[\"value\"], \"ko\", markersize=2)\n",
    "    elif not log_x2 and not log_y2:\n",
    "        plt.plot(h2[\"bin_center\"], h2[\"value\"], \"ko\", markersize=2)\n",
    "\n",
    "    plt.title(\"Edge size distribution\")\n",
    "    plt.xlabel(r\"$s$\", fontsize=16)\n",
    "    plt.ylabel(r\"$P(s)$\", fontsize=16)\n",
    "    plt.ylim([ymin, ymax])\n",
    "    sns.despine()\n",
    "    plt.tight_layout()\n",
    "    plt.savefig(f\"datasheets/{dataset_name}/stats.png\", dpi=300)\n",
    "    plt.show()"
   ]
  },
  {
   "cell_type": "code",
   "execution_count": null,
   "metadata": {},
   "outputs": [],
   "source": [
    "plot_distributions(H, log_x1=True, log_y1=True, log_x2=True, log_y2=True)"
   ]
  },
  {
   "cell_type": "code",
   "execution_count": null,
   "metadata": {},
   "outputs": [],
   "source": []
  }
 ],
 "metadata": {
  "kernelspec": {
   "display_name": "hyper",
   "language": "python",
   "name": "python3"
  },
  "language_info": {
   "codemirror_mode": {
    "name": "ipython",
    "version": 3
   },
   "file_extension": ".py",
   "mimetype": "text/x-python",
   "name": "python",
   "nbconvert_exporter": "python",
   "pygments_lexer": "ipython3",
   "version": "3.10.0"
  }
 },
 "nbformat": 4,
 "nbformat_minor": 2
}
