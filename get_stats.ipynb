{
 "cells": [
  {
   "cell_type": "code",
   "execution_count": null,
   "metadata": {},
   "outputs": [],
   "source": [
    "print((H.num_nodes, H.num_edges))\n",
    "\n",
    "vals, counts = np.unique(\n",
    "    [len(c) for c in xgi.connected_components(H)], return_counts=True\n",
    ")\n",
    "print(np.array([vals, counts]))\n",
    "\n",
    "plt.figure(figsize=(8, 4))\n",
    "plt.subplot(121)\n",
    "\n",
    "h = H.nodes.degree.ashist(density=True, log_binning=True)\n",
    "\n",
    "plt.loglog(h[\"bin_center\"], h[\"value\"], \"ko\", markersize=2)\n",
    "plt.title(\"Degree distribution\")\n",
    "plt.xlabel(r\"$k$\", fontsize=16)\n",
    "plt.ylabel(r\"$P(k)$\", fontsize=16)\n",
    "plt.ylim([1e-5, 1])\n",
    "sns.despine()\n",
    "\n",
    "plt.subplot(122)\n",
    "h = H.edges.size.ashist(density=True, log_binning=True)\n",
    "plt.loglog(h[\"bin_center\"], h[\"value\"], \"ko\", markersize=2)\n",
    "plt.title(\"Edge size distribution\")\n",
    "plt.xlabel(r\"$s$\", fontsize=16)\n",
    "plt.ylabel(r\"$P(s)$\", fontsize=16)\n",
    "plt.ylim([1e-5, 1])\n",
    "sns.despine()\n",
    "plt.tight_layout()\n",
    "plt.savefig(f\"{datasheet_folder}/{dataset_name}/stats.png\", dpi=300)\n",
    "plt.show()"
   ]
  }
 ],
 "metadata": {
  "language_info": {
   "name": "python"
  }
 },
 "nbformat": 4,
 "nbformat_minor": 2
}
